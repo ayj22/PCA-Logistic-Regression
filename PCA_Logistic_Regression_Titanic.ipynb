{
  "nbformat": 4,
  "nbformat_minor": 0,
  "metadata": {
    "colab": {
      "name": "PCA-Logistic-Regression-Titanic",
      "provenance": [],
      "collapsed_sections": []
    },
    "kernelspec": {
      "name": "python3",
      "display_name": "Python 3"
    }
  },
  "cells": [
    {
      "cell_type": "markdown",
      "metadata": {
        "id": "TMK0YZKeQ3sO",
        "colab_type": "text"
      },
      "source": [
        "**LOGISTIC REGGRESSION:**\n",
        "In this notebook we are going to apply logistic regression which is an algorithm comes under the classification regression in which our target variable is classified in certain categories we can call them categorical values. These values falls under discrete values which also means the values which are not continous."
      ]
    },
    {
      "cell_type": "markdown",
      "metadata": {
        "id": "qpEYNhlV-l0e",
        "colab_type": "text"
      },
      "source": [
        "In this step we are going to install all the libraries required to use the function to perform the desired task."
      ]
    },
    {
      "cell_type": "code",
      "metadata": {
        "id": "H7cmqiW4QiMg",
        "colab_type": "code",
        "colab": {}
      },
      "source": [
        "# Importing libraries:\n",
        "import pandas as pd\n",
        "import numpy as np\n",
        "import matplotlib.pyplot as plt\n",
        "import seaborn as sns\n"
      ],
      "execution_count": 0,
      "outputs": []
    },
    {
      "cell_type": "markdown",
      "metadata": {
        "id": "gF0yYCfB-4u4",
        "colab_type": "text"
      },
      "source": [
        "We have used pandas library to read the train dataset from the directory"
      ]
    },
    {
      "cell_type": "code",
      "metadata": {
        "id": "-CtWi3Q5TdGn",
        "colab_type": "code",
        "colab": {}
      },
      "source": [
        "#Importing test dataset:\n",
        "titanic_data_train = pd.read_csv(\"train_data.csv\")"
      ],
      "execution_count": 0,
      "outputs": []
    },
    {
      "cell_type": "markdown",
      "metadata": {
        "id": "ddMV8GBZ_D0K",
        "colab_type": "text"
      },
      "source": [
        "We have used pandas library to read the test dataset from the directory"
      ]
    },
    {
      "cell_type": "code",
      "metadata": {
        "id": "fH66fS7OfYfU",
        "colab_type": "code",
        "colab": {}
      },
      "source": [
        "titanic_data_test = pd.read_csv(\"test_data.csv\")"
      ],
      "execution_count": 0,
      "outputs": []
    },
    {
      "cell_type": "markdown",
      "metadata": {
        "id": "ok9ent_N_JGO",
        "colab_type": "text"
      },
      "source": [
        "Taking overview of the train dataset is very important, this tell us how our data looks like. Certainly there are many different ways to explore everyone has there own choice what approach they use explore data."
      ]
    },
    {
      "cell_type": "code",
      "metadata": {
        "id": "ys9kOcumVxs0",
        "colab_type": "code",
        "outputId": "0ecb89f9-f7b3-4423-f72d-15f16445b3e5",
        "colab": {
          "base_uri": "https://localhost:8080/",
          "height": 359
        }
      },
      "source": [
        "titanic_data_train.head(10)"
      ],
      "execution_count": 35,
      "outputs": [
        {
          "output_type": "execute_result",
          "data": {
            "text/html": [
              "<div>\n",
              "<style scoped>\n",
              "    .dataframe tbody tr th:only-of-type {\n",
              "        vertical-align: middle;\n",
              "    }\n",
              "\n",
              "    .dataframe tbody tr th {\n",
              "        vertical-align: top;\n",
              "    }\n",
              "\n",
              "    .dataframe thead th {\n",
              "        text-align: right;\n",
              "    }\n",
              "</style>\n",
              "<table border=\"1\" class=\"dataframe\">\n",
              "  <thead>\n",
              "    <tr style=\"text-align: right;\">\n",
              "      <th></th>\n",
              "      <th>Unnamed: 0</th>\n",
              "      <th>PassengerId</th>\n",
              "      <th>Survived</th>\n",
              "      <th>Sex</th>\n",
              "      <th>Age</th>\n",
              "      <th>Fare</th>\n",
              "      <th>Pclass_1</th>\n",
              "      <th>Pclass_2</th>\n",
              "      <th>Pclass_3</th>\n",
              "      <th>Family_size</th>\n",
              "      <th>Title_1</th>\n",
              "      <th>Title_2</th>\n",
              "      <th>Title_3</th>\n",
              "      <th>Title_4</th>\n",
              "      <th>Emb_1</th>\n",
              "      <th>Emb_2</th>\n",
              "      <th>Emb_3</th>\n",
              "    </tr>\n",
              "  </thead>\n",
              "  <tbody>\n",
              "    <tr>\n",
              "      <th>0</th>\n",
              "      <td>0</td>\n",
              "      <td>1</td>\n",
              "      <td>0</td>\n",
              "      <td>1</td>\n",
              "      <td>0.2750</td>\n",
              "      <td>0.014151</td>\n",
              "      <td>0</td>\n",
              "      <td>0</td>\n",
              "      <td>1</td>\n",
              "      <td>0.1</td>\n",
              "      <td>1</td>\n",
              "      <td>0</td>\n",
              "      <td>0</td>\n",
              "      <td>0</td>\n",
              "      <td>0</td>\n",
              "      <td>0</td>\n",
              "      <td>1</td>\n",
              "    </tr>\n",
              "    <tr>\n",
              "      <th>1</th>\n",
              "      <td>1</td>\n",
              "      <td>2</td>\n",
              "      <td>1</td>\n",
              "      <td>0</td>\n",
              "      <td>0.4750</td>\n",
              "      <td>0.139136</td>\n",
              "      <td>1</td>\n",
              "      <td>0</td>\n",
              "      <td>0</td>\n",
              "      <td>0.1</td>\n",
              "      <td>1</td>\n",
              "      <td>0</td>\n",
              "      <td>0</td>\n",
              "      <td>0</td>\n",
              "      <td>1</td>\n",
              "      <td>0</td>\n",
              "      <td>0</td>\n",
              "    </tr>\n",
              "    <tr>\n",
              "      <th>2</th>\n",
              "      <td>2</td>\n",
              "      <td>3</td>\n",
              "      <td>1</td>\n",
              "      <td>0</td>\n",
              "      <td>0.3250</td>\n",
              "      <td>0.015469</td>\n",
              "      <td>0</td>\n",
              "      <td>0</td>\n",
              "      <td>1</td>\n",
              "      <td>0.0</td>\n",
              "      <td>0</td>\n",
              "      <td>0</td>\n",
              "      <td>0</td>\n",
              "      <td>1</td>\n",
              "      <td>0</td>\n",
              "      <td>0</td>\n",
              "      <td>1</td>\n",
              "    </tr>\n",
              "    <tr>\n",
              "      <th>3</th>\n",
              "      <td>3</td>\n",
              "      <td>4</td>\n",
              "      <td>1</td>\n",
              "      <td>0</td>\n",
              "      <td>0.4375</td>\n",
              "      <td>0.103644</td>\n",
              "      <td>1</td>\n",
              "      <td>0</td>\n",
              "      <td>0</td>\n",
              "      <td>0.1</td>\n",
              "      <td>1</td>\n",
              "      <td>0</td>\n",
              "      <td>0</td>\n",
              "      <td>0</td>\n",
              "      <td>0</td>\n",
              "      <td>0</td>\n",
              "      <td>1</td>\n",
              "    </tr>\n",
              "    <tr>\n",
              "      <th>4</th>\n",
              "      <td>4</td>\n",
              "      <td>5</td>\n",
              "      <td>0</td>\n",
              "      <td>1</td>\n",
              "      <td>0.4375</td>\n",
              "      <td>0.015713</td>\n",
              "      <td>0</td>\n",
              "      <td>0</td>\n",
              "      <td>1</td>\n",
              "      <td>0.0</td>\n",
              "      <td>1</td>\n",
              "      <td>0</td>\n",
              "      <td>0</td>\n",
              "      <td>0</td>\n",
              "      <td>0</td>\n",
              "      <td>0</td>\n",
              "      <td>1</td>\n",
              "    </tr>\n",
              "    <tr>\n",
              "      <th>5</th>\n",
              "      <td>5</td>\n",
              "      <td>6</td>\n",
              "      <td>0</td>\n",
              "      <td>1</td>\n",
              "      <td>0.3500</td>\n",
              "      <td>0.016510</td>\n",
              "      <td>0</td>\n",
              "      <td>0</td>\n",
              "      <td>1</td>\n",
              "      <td>0.0</td>\n",
              "      <td>1</td>\n",
              "      <td>0</td>\n",
              "      <td>0</td>\n",
              "      <td>0</td>\n",
              "      <td>0</td>\n",
              "      <td>1</td>\n",
              "      <td>0</td>\n",
              "    </tr>\n",
              "    <tr>\n",
              "      <th>6</th>\n",
              "      <td>6</td>\n",
              "      <td>7</td>\n",
              "      <td>0</td>\n",
              "      <td>1</td>\n",
              "      <td>0.6750</td>\n",
              "      <td>0.101229</td>\n",
              "      <td>1</td>\n",
              "      <td>0</td>\n",
              "      <td>0</td>\n",
              "      <td>0.0</td>\n",
              "      <td>1</td>\n",
              "      <td>0</td>\n",
              "      <td>0</td>\n",
              "      <td>0</td>\n",
              "      <td>0</td>\n",
              "      <td>0</td>\n",
              "      <td>1</td>\n",
              "    </tr>\n",
              "    <tr>\n",
              "      <th>7</th>\n",
              "      <td>7</td>\n",
              "      <td>8</td>\n",
              "      <td>0</td>\n",
              "      <td>1</td>\n",
              "      <td>0.0250</td>\n",
              "      <td>0.041136</td>\n",
              "      <td>0</td>\n",
              "      <td>0</td>\n",
              "      <td>1</td>\n",
              "      <td>0.4</td>\n",
              "      <td>0</td>\n",
              "      <td>0</td>\n",
              "      <td>1</td>\n",
              "      <td>0</td>\n",
              "      <td>0</td>\n",
              "      <td>0</td>\n",
              "      <td>1</td>\n",
              "    </tr>\n",
              "    <tr>\n",
              "      <th>8</th>\n",
              "      <td>8</td>\n",
              "      <td>9</td>\n",
              "      <td>1</td>\n",
              "      <td>0</td>\n",
              "      <td>0.3375</td>\n",
              "      <td>0.021731</td>\n",
              "      <td>0</td>\n",
              "      <td>0</td>\n",
              "      <td>1</td>\n",
              "      <td>0.2</td>\n",
              "      <td>1</td>\n",
              "      <td>0</td>\n",
              "      <td>0</td>\n",
              "      <td>0</td>\n",
              "      <td>0</td>\n",
              "      <td>0</td>\n",
              "      <td>1</td>\n",
              "    </tr>\n",
              "    <tr>\n",
              "      <th>9</th>\n",
              "      <td>9</td>\n",
              "      <td>10</td>\n",
              "      <td>1</td>\n",
              "      <td>0</td>\n",
              "      <td>0.1750</td>\n",
              "      <td>0.058694</td>\n",
              "      <td>0</td>\n",
              "      <td>1</td>\n",
              "      <td>0</td>\n",
              "      <td>0.1</td>\n",
              "      <td>1</td>\n",
              "      <td>0</td>\n",
              "      <td>0</td>\n",
              "      <td>0</td>\n",
              "      <td>1</td>\n",
              "      <td>0</td>\n",
              "      <td>0</td>\n",
              "    </tr>\n",
              "  </tbody>\n",
              "</table>\n",
              "</div>"
            ],
            "text/plain": [
              "   Unnamed: 0  PassengerId  Survived  Sex  ...  Title_4  Emb_1  Emb_2  Emb_3\n",
              "0           0            1         0    1  ...        0      0      0      1\n",
              "1           1            2         1    0  ...        0      1      0      0\n",
              "2           2            3         1    0  ...        1      0      0      1\n",
              "3           3            4         1    0  ...        0      0      0      1\n",
              "4           4            5         0    1  ...        0      0      0      1\n",
              "5           5            6         0    1  ...        0      0      1      0\n",
              "6           6            7         0    1  ...        0      0      0      1\n",
              "7           7            8         0    1  ...        0      0      0      1\n",
              "8           8            9         1    0  ...        0      0      0      1\n",
              "9           9           10         1    0  ...        0      1      0      0\n",
              "\n",
              "[10 rows x 17 columns]"
            ]
          },
          "metadata": {
            "tags": []
          },
          "execution_count": 35
        }
      ]
    },
    {
      "cell_type": "markdown",
      "metadata": {
        "id": "IKePez0m_nAp",
        "colab_type": "text"
      },
      "source": [
        "Taking overview of the test dataset is very important, this tell us how our data looks like. Certainly there are many different ways to explore everyone has there own choice what approach they use explore data."
      ]
    },
    {
      "cell_type": "code",
      "metadata": {
        "id": "BR_xL8IKfIFZ",
        "colab_type": "code",
        "outputId": "db46340a-4d84-43f3-a655-173d9dbb5d30",
        "colab": {
          "base_uri": "https://localhost:8080/",
          "height": 359
        }
      },
      "source": [
        "titanic_data_test.head(10)"
      ],
      "execution_count": 36,
      "outputs": [
        {
          "output_type": "execute_result",
          "data": {
            "text/html": [
              "<div>\n",
              "<style scoped>\n",
              "    .dataframe tbody tr th:only-of-type {\n",
              "        vertical-align: middle;\n",
              "    }\n",
              "\n",
              "    .dataframe tbody tr th {\n",
              "        vertical-align: top;\n",
              "    }\n",
              "\n",
              "    .dataframe thead th {\n",
              "        text-align: right;\n",
              "    }\n",
              "</style>\n",
              "<table border=\"1\" class=\"dataframe\">\n",
              "  <thead>\n",
              "    <tr style=\"text-align: right;\">\n",
              "      <th></th>\n",
              "      <th>Unnamed: 0</th>\n",
              "      <th>PassengerId</th>\n",
              "      <th>Survived</th>\n",
              "      <th>Sex</th>\n",
              "      <th>Age</th>\n",
              "      <th>Fare</th>\n",
              "      <th>Pclass_1</th>\n",
              "      <th>Pclass_2</th>\n",
              "      <th>Pclass_3</th>\n",
              "      <th>Family_size</th>\n",
              "      <th>Title_1</th>\n",
              "      <th>Title_2</th>\n",
              "      <th>Title_3</th>\n",
              "      <th>Title_4</th>\n",
              "      <th>Emb_1</th>\n",
              "      <th>Emb_2</th>\n",
              "      <th>Emb_3</th>\n",
              "    </tr>\n",
              "  </thead>\n",
              "  <tbody>\n",
              "    <tr>\n",
              "      <th>0</th>\n",
              "      <td>791</td>\n",
              "      <td>792</td>\n",
              "      <td>0</td>\n",
              "      <td>1</td>\n",
              "      <td>0.2000</td>\n",
              "      <td>0.050749</td>\n",
              "      <td>0</td>\n",
              "      <td>1</td>\n",
              "      <td>0</td>\n",
              "      <td>0.0</td>\n",
              "      <td>1</td>\n",
              "      <td>0</td>\n",
              "      <td>0</td>\n",
              "      <td>0</td>\n",
              "      <td>0</td>\n",
              "      <td>0</td>\n",
              "      <td>1</td>\n",
              "    </tr>\n",
              "    <tr>\n",
              "      <th>1</th>\n",
              "      <td>792</td>\n",
              "      <td>793</td>\n",
              "      <td>0</td>\n",
              "      <td>0</td>\n",
              "      <td>0.3500</td>\n",
              "      <td>0.135753</td>\n",
              "      <td>0</td>\n",
              "      <td>0</td>\n",
              "      <td>1</td>\n",
              "      <td>1.0</td>\n",
              "      <td>0</td>\n",
              "      <td>0</td>\n",
              "      <td>0</td>\n",
              "      <td>1</td>\n",
              "      <td>0</td>\n",
              "      <td>0</td>\n",
              "      <td>1</td>\n",
              "    </tr>\n",
              "    <tr>\n",
              "      <th>2</th>\n",
              "      <td>793</td>\n",
              "      <td>794</td>\n",
              "      <td>0</td>\n",
              "      <td>1</td>\n",
              "      <td>0.3500</td>\n",
              "      <td>0.059914</td>\n",
              "      <td>1</td>\n",
              "      <td>0</td>\n",
              "      <td>0</td>\n",
              "      <td>0.0</td>\n",
              "      <td>1</td>\n",
              "      <td>0</td>\n",
              "      <td>0</td>\n",
              "      <td>0</td>\n",
              "      <td>1</td>\n",
              "      <td>0</td>\n",
              "      <td>0</td>\n",
              "    </tr>\n",
              "    <tr>\n",
              "      <th>3</th>\n",
              "      <td>794</td>\n",
              "      <td>795</td>\n",
              "      <td>0</td>\n",
              "      <td>1</td>\n",
              "      <td>0.3125</td>\n",
              "      <td>0.015412</td>\n",
              "      <td>0</td>\n",
              "      <td>0</td>\n",
              "      <td>1</td>\n",
              "      <td>0.0</td>\n",
              "      <td>1</td>\n",
              "      <td>0</td>\n",
              "      <td>0</td>\n",
              "      <td>0</td>\n",
              "      <td>0</td>\n",
              "      <td>0</td>\n",
              "      <td>1</td>\n",
              "    </tr>\n",
              "    <tr>\n",
              "      <th>4</th>\n",
              "      <td>795</td>\n",
              "      <td>796</td>\n",
              "      <td>0</td>\n",
              "      <td>1</td>\n",
              "      <td>0.4875</td>\n",
              "      <td>0.025374</td>\n",
              "      <td>0</td>\n",
              "      <td>1</td>\n",
              "      <td>0</td>\n",
              "      <td>0.0</td>\n",
              "      <td>1</td>\n",
              "      <td>0</td>\n",
              "      <td>0</td>\n",
              "      <td>0</td>\n",
              "      <td>0</td>\n",
              "      <td>0</td>\n",
              "      <td>1</td>\n",
              "    </tr>\n",
              "    <tr>\n",
              "      <th>5</th>\n",
              "      <td>796</td>\n",
              "      <td>797</td>\n",
              "      <td>1</td>\n",
              "      <td>0</td>\n",
              "      <td>0.6125</td>\n",
              "      <td>0.050610</td>\n",
              "      <td>1</td>\n",
              "      <td>0</td>\n",
              "      <td>0</td>\n",
              "      <td>0.0</td>\n",
              "      <td>0</td>\n",
              "      <td>1</td>\n",
              "      <td>0</td>\n",
              "      <td>0</td>\n",
              "      <td>0</td>\n",
              "      <td>0</td>\n",
              "      <td>1</td>\n",
              "    </tr>\n",
              "    <tr>\n",
              "      <th>6</th>\n",
              "      <td>797</td>\n",
              "      <td>798</td>\n",
              "      <td>1</td>\n",
              "      <td>0</td>\n",
              "      <td>0.3875</td>\n",
              "      <td>0.016949</td>\n",
              "      <td>0</td>\n",
              "      <td>0</td>\n",
              "      <td>1</td>\n",
              "      <td>0.0</td>\n",
              "      <td>1</td>\n",
              "      <td>0</td>\n",
              "      <td>0</td>\n",
              "      <td>0</td>\n",
              "      <td>0</td>\n",
              "      <td>0</td>\n",
              "      <td>1</td>\n",
              "    </tr>\n",
              "    <tr>\n",
              "      <th>7</th>\n",
              "      <td>798</td>\n",
              "      <td>799</td>\n",
              "      <td>0</td>\n",
              "      <td>1</td>\n",
              "      <td>0.3750</td>\n",
              "      <td>0.014110</td>\n",
              "      <td>0</td>\n",
              "      <td>0</td>\n",
              "      <td>1</td>\n",
              "      <td>0.0</td>\n",
              "      <td>1</td>\n",
              "      <td>0</td>\n",
              "      <td>0</td>\n",
              "      <td>0</td>\n",
              "      <td>1</td>\n",
              "      <td>0</td>\n",
              "      <td>0</td>\n",
              "    </tr>\n",
              "    <tr>\n",
              "      <th>8</th>\n",
              "      <td>799</td>\n",
              "      <td>800</td>\n",
              "      <td>0</td>\n",
              "      <td>0</td>\n",
              "      <td>0.3750</td>\n",
              "      <td>0.047138</td>\n",
              "      <td>0</td>\n",
              "      <td>0</td>\n",
              "      <td>1</td>\n",
              "      <td>0.2</td>\n",
              "      <td>1</td>\n",
              "      <td>0</td>\n",
              "      <td>0</td>\n",
              "      <td>0</td>\n",
              "      <td>0</td>\n",
              "      <td>0</td>\n",
              "      <td>1</td>\n",
              "    </tr>\n",
              "    <tr>\n",
              "      <th>9</th>\n",
              "      <td>800</td>\n",
              "      <td>801</td>\n",
              "      <td>0</td>\n",
              "      <td>1</td>\n",
              "      <td>0.4250</td>\n",
              "      <td>0.025374</td>\n",
              "      <td>0</td>\n",
              "      <td>1</td>\n",
              "      <td>0</td>\n",
              "      <td>0.0</td>\n",
              "      <td>1</td>\n",
              "      <td>0</td>\n",
              "      <td>0</td>\n",
              "      <td>0</td>\n",
              "      <td>0</td>\n",
              "      <td>0</td>\n",
              "      <td>1</td>\n",
              "    </tr>\n",
              "  </tbody>\n",
              "</table>\n",
              "</div>"
            ],
            "text/plain": [
              "   Unnamed: 0  PassengerId  Survived  Sex  ...  Title_4  Emb_1  Emb_2  Emb_3\n",
              "0         791          792         0    1  ...        0      0      0      1\n",
              "1         792          793         0    0  ...        1      0      0      1\n",
              "2         793          794         0    1  ...        0      1      0      0\n",
              "3         794          795         0    1  ...        0      0      0      1\n",
              "4         795          796         0    1  ...        0      0      0      1\n",
              "5         796          797         1    0  ...        0      0      0      1\n",
              "6         797          798         1    0  ...        0      0      0      1\n",
              "7         798          799         0    1  ...        0      1      0      0\n",
              "8         799          800         0    0  ...        0      0      0      1\n",
              "9         800          801         0    1  ...        0      0      0      1\n",
              "\n",
              "[10 rows x 17 columns]"
            ]
          },
          "metadata": {
            "tags": []
          },
          "execution_count": 36
        }
      ]
    },
    {
      "cell_type": "markdown",
      "metadata": {
        "id": "_vM6ARNDAlhA",
        "colab_type": "text"
      },
      "source": [
        "It is very important to know the dimensions of dataset how exactly big or small it. This function is applied on both train and test dataset."
      ]
    },
    {
      "cell_type": "code",
      "metadata": {
        "id": "u0bQI-tAk8CW",
        "colab_type": "code",
        "outputId": "5e9bf435-62d8-4ac1-f741-726069454f6b",
        "colab": {
          "base_uri": "https://localhost:8080/",
          "height": 34
        }
      },
      "source": [
        "titanic_data_train.shape"
      ],
      "execution_count": 37,
      "outputs": [
        {
          "output_type": "execute_result",
          "data": {
            "text/plain": [
              "(792, 17)"
            ]
          },
          "metadata": {
            "tags": []
          },
          "execution_count": 37
        }
      ]
    },
    {
      "cell_type": "code",
      "metadata": {
        "id": "x0pbjrdMk_lj",
        "colab_type": "code",
        "outputId": "79087ea0-ebd6-4264-9e29-e345b9eaa604",
        "colab": {
          "base_uri": "https://localhost:8080/",
          "height": 34
        }
      },
      "source": [
        "titanic_data_test.shape"
      ],
      "execution_count": 38,
      "outputs": [
        {
          "output_type": "execute_result",
          "data": {
            "text/plain": [
              "(100, 17)"
            ]
          },
          "metadata": {
            "tags": []
          },
          "execution_count": 38
        }
      ]
    },
    {
      "cell_type": "markdown",
      "metadata": {
        "id": "x4D3brFXA5yo",
        "colab_type": "text"
      },
      "source": [
        "As we are aware that collecting data is sometimes dont goes well, due to which data sometime goes missing and while exploring the data we notice that many of the columns are not going to make any difference in outcome of model. To increase the efficientcy and more accurate results we remove some column which are totaly discrete decision based on the domain knowledge as pe my understanding. In the next steps we have drop 2 columns which we found of no significant impact. "
      ]
    },
    {
      "cell_type": "code",
      "metadata": {
        "id": "dKP1xo8KTyxg",
        "colab_type": "code",
        "colab": {}
      },
      "source": [
        "#Dropping unproductive table\n",
        "titanic_data_train.drop(\"Unnamed: 0\",axis=1, inplace= True)"
      ],
      "execution_count": 0,
      "outputs": []
    },
    {
      "cell_type": "code",
      "metadata": {
        "id": "J3nW3spHfghq",
        "colab_type": "code",
        "colab": {}
      },
      "source": [
        "titanic_data_test.drop(\"Unnamed: 0\",axis=1, inplace= True)"
      ],
      "execution_count": 0,
      "outputs": []
    },
    {
      "cell_type": "code",
      "metadata": {
        "id": "eCbWDyolalsB",
        "colab_type": "code",
        "colab": {}
      },
      "source": [
        "titanic_data_train.drop(\"PassengerId\",axis=1, inplace= True)"
      ],
      "execution_count": 0,
      "outputs": []
    },
    {
      "cell_type": "code",
      "metadata": {
        "id": "J-w0G-Ljfi6R",
        "colab_type": "code",
        "colab": {}
      },
      "source": [
        "titanic_data_test.drop(\"PassengerId\",axis=1, inplace= True)"
      ],
      "execution_count": 0,
      "outputs": []
    },
    {
      "cell_type": "markdown",
      "metadata": {
        "id": "2XjV5F4gGiTk",
        "colab_type": "text"
      },
      "source": [
        "#Exploratory Data Analysis"
      ]
    },
    {
      "cell_type": "markdown",
      "metadata": {
        "id": "XkkG8V4nDoPa",
        "colab_type": "text"
      },
      "source": [
        "After removing the column looking at the dataset."
      ]
    },
    {
      "cell_type": "code",
      "metadata": {
        "id": "ILx9hjBicKg2",
        "colab_type": "code",
        "outputId": "7261edcf-1aeb-40f5-83a2-93cf5a00347a",
        "colab": {
          "base_uri": "https://localhost:8080/",
          "height": 359
        }
      },
      "source": [
        "titanic_data_train.head(10)"
      ],
      "execution_count": 43,
      "outputs": [
        {
          "output_type": "execute_result",
          "data": {
            "text/html": [
              "<div>\n",
              "<style scoped>\n",
              "    .dataframe tbody tr th:only-of-type {\n",
              "        vertical-align: middle;\n",
              "    }\n",
              "\n",
              "    .dataframe tbody tr th {\n",
              "        vertical-align: top;\n",
              "    }\n",
              "\n",
              "    .dataframe thead th {\n",
              "        text-align: right;\n",
              "    }\n",
              "</style>\n",
              "<table border=\"1\" class=\"dataframe\">\n",
              "  <thead>\n",
              "    <tr style=\"text-align: right;\">\n",
              "      <th></th>\n",
              "      <th>Survived</th>\n",
              "      <th>Sex</th>\n",
              "      <th>Age</th>\n",
              "      <th>Fare</th>\n",
              "      <th>Pclass_1</th>\n",
              "      <th>Pclass_2</th>\n",
              "      <th>Pclass_3</th>\n",
              "      <th>Family_size</th>\n",
              "      <th>Title_1</th>\n",
              "      <th>Title_2</th>\n",
              "      <th>Title_3</th>\n",
              "      <th>Title_4</th>\n",
              "      <th>Emb_1</th>\n",
              "      <th>Emb_2</th>\n",
              "      <th>Emb_3</th>\n",
              "    </tr>\n",
              "  </thead>\n",
              "  <tbody>\n",
              "    <tr>\n",
              "      <th>0</th>\n",
              "      <td>0</td>\n",
              "      <td>1</td>\n",
              "      <td>0.2750</td>\n",
              "      <td>0.014151</td>\n",
              "      <td>0</td>\n",
              "      <td>0</td>\n",
              "      <td>1</td>\n",
              "      <td>0.1</td>\n",
              "      <td>1</td>\n",
              "      <td>0</td>\n",
              "      <td>0</td>\n",
              "      <td>0</td>\n",
              "      <td>0</td>\n",
              "      <td>0</td>\n",
              "      <td>1</td>\n",
              "    </tr>\n",
              "    <tr>\n",
              "      <th>1</th>\n",
              "      <td>1</td>\n",
              "      <td>0</td>\n",
              "      <td>0.4750</td>\n",
              "      <td>0.139136</td>\n",
              "      <td>1</td>\n",
              "      <td>0</td>\n",
              "      <td>0</td>\n",
              "      <td>0.1</td>\n",
              "      <td>1</td>\n",
              "      <td>0</td>\n",
              "      <td>0</td>\n",
              "      <td>0</td>\n",
              "      <td>1</td>\n",
              "      <td>0</td>\n",
              "      <td>0</td>\n",
              "    </tr>\n",
              "    <tr>\n",
              "      <th>2</th>\n",
              "      <td>1</td>\n",
              "      <td>0</td>\n",
              "      <td>0.3250</td>\n",
              "      <td>0.015469</td>\n",
              "      <td>0</td>\n",
              "      <td>0</td>\n",
              "      <td>1</td>\n",
              "      <td>0.0</td>\n",
              "      <td>0</td>\n",
              "      <td>0</td>\n",
              "      <td>0</td>\n",
              "      <td>1</td>\n",
              "      <td>0</td>\n",
              "      <td>0</td>\n",
              "      <td>1</td>\n",
              "    </tr>\n",
              "    <tr>\n",
              "      <th>3</th>\n",
              "      <td>1</td>\n",
              "      <td>0</td>\n",
              "      <td>0.4375</td>\n",
              "      <td>0.103644</td>\n",
              "      <td>1</td>\n",
              "      <td>0</td>\n",
              "      <td>0</td>\n",
              "      <td>0.1</td>\n",
              "      <td>1</td>\n",
              "      <td>0</td>\n",
              "      <td>0</td>\n",
              "      <td>0</td>\n",
              "      <td>0</td>\n",
              "      <td>0</td>\n",
              "      <td>1</td>\n",
              "    </tr>\n",
              "    <tr>\n",
              "      <th>4</th>\n",
              "      <td>0</td>\n",
              "      <td>1</td>\n",
              "      <td>0.4375</td>\n",
              "      <td>0.015713</td>\n",
              "      <td>0</td>\n",
              "      <td>0</td>\n",
              "      <td>1</td>\n",
              "      <td>0.0</td>\n",
              "      <td>1</td>\n",
              "      <td>0</td>\n",
              "      <td>0</td>\n",
              "      <td>0</td>\n",
              "      <td>0</td>\n",
              "      <td>0</td>\n",
              "      <td>1</td>\n",
              "    </tr>\n",
              "    <tr>\n",
              "      <th>5</th>\n",
              "      <td>0</td>\n",
              "      <td>1</td>\n",
              "      <td>0.3500</td>\n",
              "      <td>0.016510</td>\n",
              "      <td>0</td>\n",
              "      <td>0</td>\n",
              "      <td>1</td>\n",
              "      <td>0.0</td>\n",
              "      <td>1</td>\n",
              "      <td>0</td>\n",
              "      <td>0</td>\n",
              "      <td>0</td>\n",
              "      <td>0</td>\n",
              "      <td>1</td>\n",
              "      <td>0</td>\n",
              "    </tr>\n",
              "    <tr>\n",
              "      <th>6</th>\n",
              "      <td>0</td>\n",
              "      <td>1</td>\n",
              "      <td>0.6750</td>\n",
              "      <td>0.101229</td>\n",
              "      <td>1</td>\n",
              "      <td>0</td>\n",
              "      <td>0</td>\n",
              "      <td>0.0</td>\n",
              "      <td>1</td>\n",
              "      <td>0</td>\n",
              "      <td>0</td>\n",
              "      <td>0</td>\n",
              "      <td>0</td>\n",
              "      <td>0</td>\n",
              "      <td>1</td>\n",
              "    </tr>\n",
              "    <tr>\n",
              "      <th>7</th>\n",
              "      <td>0</td>\n",
              "      <td>1</td>\n",
              "      <td>0.0250</td>\n",
              "      <td>0.041136</td>\n",
              "      <td>0</td>\n",
              "      <td>0</td>\n",
              "      <td>1</td>\n",
              "      <td>0.4</td>\n",
              "      <td>0</td>\n",
              "      <td>0</td>\n",
              "      <td>1</td>\n",
              "      <td>0</td>\n",
              "      <td>0</td>\n",
              "      <td>0</td>\n",
              "      <td>1</td>\n",
              "    </tr>\n",
              "    <tr>\n",
              "      <th>8</th>\n",
              "      <td>1</td>\n",
              "      <td>0</td>\n",
              "      <td>0.3375</td>\n",
              "      <td>0.021731</td>\n",
              "      <td>0</td>\n",
              "      <td>0</td>\n",
              "      <td>1</td>\n",
              "      <td>0.2</td>\n",
              "      <td>1</td>\n",
              "      <td>0</td>\n",
              "      <td>0</td>\n",
              "      <td>0</td>\n",
              "      <td>0</td>\n",
              "      <td>0</td>\n",
              "      <td>1</td>\n",
              "    </tr>\n",
              "    <tr>\n",
              "      <th>9</th>\n",
              "      <td>1</td>\n",
              "      <td>0</td>\n",
              "      <td>0.1750</td>\n",
              "      <td>0.058694</td>\n",
              "      <td>0</td>\n",
              "      <td>1</td>\n",
              "      <td>0</td>\n",
              "      <td>0.1</td>\n",
              "      <td>1</td>\n",
              "      <td>0</td>\n",
              "      <td>0</td>\n",
              "      <td>0</td>\n",
              "      <td>1</td>\n",
              "      <td>0</td>\n",
              "      <td>0</td>\n",
              "    </tr>\n",
              "  </tbody>\n",
              "</table>\n",
              "</div>"
            ],
            "text/plain": [
              "   Survived  Sex     Age      Fare  ...  Title_4  Emb_1  Emb_2  Emb_3\n",
              "0         0    1  0.2750  0.014151  ...        0      0      0      1\n",
              "1         1    0  0.4750  0.139136  ...        0      1      0      0\n",
              "2         1    0  0.3250  0.015469  ...        1      0      0      1\n",
              "3         1    0  0.4375  0.103644  ...        0      0      0      1\n",
              "4         0    1  0.4375  0.015713  ...        0      0      0      1\n",
              "5         0    1  0.3500  0.016510  ...        0      0      1      0\n",
              "6         0    1  0.6750  0.101229  ...        0      0      0      1\n",
              "7         0    1  0.0250  0.041136  ...        0      0      0      1\n",
              "8         1    0  0.3375  0.021731  ...        0      0      0      1\n",
              "9         1    0  0.1750  0.058694  ...        0      1      0      0\n",
              "\n",
              "[10 rows x 15 columns]"
            ]
          },
          "metadata": {
            "tags": []
          },
          "execution_count": 43
        }
      ]
    },
    {
      "cell_type": "code",
      "metadata": {
        "id": "sUOk3nK5cebx",
        "colab_type": "code",
        "outputId": "7e8c144b-4929-4b8e-8812-c6dd89a41fdc",
        "colab": {
          "base_uri": "https://localhost:8080/",
          "height": 68
        }
      },
      "source": [
        "titanic_data_train.Survived.value_counts()"
      ],
      "execution_count": 44,
      "outputs": [
        {
          "output_type": "execute_result",
          "data": {
            "text/plain": [
              "0    486\n",
              "1    306\n",
              "Name: Survived, dtype: int64"
            ]
          },
          "metadata": {
            "tags": []
          },
          "execution_count": 44
        }
      ]
    },
    {
      "cell_type": "code",
      "metadata": {
        "id": "hQzP5jKHcuit",
        "colab_type": "code",
        "outputId": "546f3070-9d53-4e0e-d836-127761b78d69",
        "colab": {
          "base_uri": "https://localhost:8080/",
          "height": 262
        }
      },
      "source": [
        "titanic_data_train[\"Survived\"].value_counts().plot(kind = \"bar\",\n",
        "                                                   color = [\"orange\", \"lightblue\"]);"
      ],
      "execution_count": 45,
      "outputs": [
        {
          "output_type": "display_data",
          "data": {
            "image/png": "[encoded data removed]",
            "text/plain": [
              "<Figure size 432x288 with 1 Axes>"
            ]
          },
          "metadata": {
            "tags": [],
            "needs_background": "light"
          }
        }
      ]
    },
    {
      "cell_type": "code",
      "metadata": {
        "id": "QEMzu671dLtT",
        "colab_type": "code",
        "outputId": "65a09117-9cdf-4ba0-cb67-a02d93813f73",
        "colab": {
          "base_uri": "https://localhost:8080/",
          "height": 289
        }
      },
      "source": [
        "titanic_data_train.isna().sum()"
      ],
      "execution_count": 46,
      "outputs": [
        {
          "output_type": "execute_result",
          "data": {
            "text/plain": [
              "Survived       0\n",
              "Sex            0\n",
              "Age            0\n",
              "Fare           0\n",
              "Pclass_1       0\n",
              "Pclass_2       0\n",
              "Pclass_3       0\n",
              "Family_size    0\n",
              "Title_1        0\n",
              "Title_2        0\n",
              "Title_3        0\n",
              "Title_4        0\n",
              "Emb_1          0\n",
              "Emb_2          0\n",
              "Emb_3          0\n",
              "dtype: int64"
            ]
          },
          "metadata": {
            "tags": []
          },
          "execution_count": 46
        }
      ]
    },
    {
      "cell_type": "code",
      "metadata": {
        "id": "1GUJcHFydSnk",
        "colab_type": "code",
        "outputId": "4e63eaee-1216-4983-a1fd-7103dbaf8807",
        "colab": {
          "base_uri": "https://localhost:8080/",
          "height": 297
        }
      },
      "source": [
        "titanic_data_train.describe()"
      ],
      "execution_count": 47,
      "outputs": [
        {
          "output_type": "execute_result",
          "data": {
            "text/html": [
              "<div>\n",
              "<style scoped>\n",
              "    .dataframe tbody tr th:only-of-type {\n",
              "        vertical-align: middle;\n",
              "    }\n",
              "\n",
              "    .dataframe tbody tr th {\n",
              "        vertical-align: top;\n",
              "    }\n",
              "\n",
              "    .dataframe thead th {\n",
              "        text-align: right;\n",
              "    }\n",
              "</style>\n",
              "<table border=\"1\" class=\"dataframe\">\n",
              "  <thead>\n",
              "    <tr style=\"text-align: right;\">\n",
              "      <th></th>\n",
              "      <th>Survived</th>\n",
              "      <th>Sex</th>\n",
              "      <th>Age</th>\n",
              "      <th>Fare</th>\n",
              "      <th>Pclass_1</th>\n",
              "      <th>Pclass_2</th>\n",
              "      <th>Pclass_3</th>\n",
              "      <th>Family_size</th>\n",
              "      <th>Title_1</th>\n",
              "      <th>Title_2</th>\n",
              "      <th>Title_3</th>\n",
              "      <th>Title_4</th>\n",
              "      <th>Emb_1</th>\n",
              "      <th>Emb_2</th>\n",
              "      <th>Emb_3</th>\n",
              "    </tr>\n",
              "  </thead>\n",
              "  <tbody>\n",
              "    <tr>\n",
              "      <th>count</th>\n",
              "      <td>792.000000</td>\n",
              "      <td>792.000000</td>\n",
              "      <td>792.000000</td>\n",
              "      <td>792.000000</td>\n",
              "      <td>792.000000</td>\n",
              "      <td>792.000000</td>\n",
              "      <td>792.000000</td>\n",
              "      <td>792.000000</td>\n",
              "      <td>792.000000</td>\n",
              "      <td>792.000000</td>\n",
              "      <td>792.000000</td>\n",
              "      <td>792.000000</td>\n",
              "      <td>792.000000</td>\n",
              "      <td>792.000000</td>\n",
              "      <td>792.000000</td>\n",
              "    </tr>\n",
              "    <tr>\n",
              "      <th>mean</th>\n",
              "      <td>0.386364</td>\n",
              "      <td>0.647727</td>\n",
              "      <td>0.368244</td>\n",
              "      <td>0.064677</td>\n",
              "      <td>0.243687</td>\n",
              "      <td>0.208333</td>\n",
              "      <td>0.547980</td>\n",
              "      <td>0.088636</td>\n",
              "      <td>0.744949</td>\n",
              "      <td>0.005051</td>\n",
              "      <td>0.040404</td>\n",
              "      <td>0.209596</td>\n",
              "      <td>0.185606</td>\n",
              "      <td>0.092172</td>\n",
              "      <td>0.720960</td>\n",
              "    </tr>\n",
              "    <tr>\n",
              "      <th>std</th>\n",
              "      <td>0.487223</td>\n",
              "      <td>0.477980</td>\n",
              "      <td>0.162994</td>\n",
              "      <td>0.100987</td>\n",
              "      <td>0.429577</td>\n",
              "      <td>0.406373</td>\n",
              "      <td>0.498007</td>\n",
              "      <td>0.154485</td>\n",
              "      <td>0.436165</td>\n",
              "      <td>0.070932</td>\n",
              "      <td>0.197029</td>\n",
              "      <td>0.407277</td>\n",
              "      <td>0.389034</td>\n",
              "      <td>0.289451</td>\n",
              "      <td>0.448811</td>\n",
              "    </tr>\n",
              "    <tr>\n",
              "      <th>min</th>\n",
              "      <td>0.000000</td>\n",
              "      <td>0.000000</td>\n",
              "      <td>0.008375</td>\n",
              "      <td>0.000000</td>\n",
              "      <td>0.000000</td>\n",
              "      <td>0.000000</td>\n",
              "      <td>0.000000</td>\n",
              "      <td>0.000000</td>\n",
              "      <td>0.000000</td>\n",
              "      <td>0.000000</td>\n",
              "      <td>0.000000</td>\n",
              "      <td>0.000000</td>\n",
              "      <td>0.000000</td>\n",
              "      <td>0.000000</td>\n",
              "      <td>0.000000</td>\n",
              "    </tr>\n",
              "    <tr>\n",
              "      <th>25%</th>\n",
              "      <td>0.000000</td>\n",
              "      <td>0.000000</td>\n",
              "      <td>0.275000</td>\n",
              "      <td>0.015469</td>\n",
              "      <td>0.000000</td>\n",
              "      <td>0.000000</td>\n",
              "      <td>0.000000</td>\n",
              "      <td>0.000000</td>\n",
              "      <td>0.000000</td>\n",
              "      <td>0.000000</td>\n",
              "      <td>0.000000</td>\n",
              "      <td>0.000000</td>\n",
              "      <td>0.000000</td>\n",
              "      <td>0.000000</td>\n",
              "      <td>0.000000</td>\n",
              "    </tr>\n",
              "    <tr>\n",
              "      <th>50%</th>\n",
              "      <td>0.000000</td>\n",
              "      <td>1.000000</td>\n",
              "      <td>0.350000</td>\n",
              "      <td>0.028302</td>\n",
              "      <td>0.000000</td>\n",
              "      <td>0.000000</td>\n",
              "      <td>1.000000</td>\n",
              "      <td>0.000000</td>\n",
              "      <td>1.000000</td>\n",
              "      <td>0.000000</td>\n",
              "      <td>0.000000</td>\n",
              "      <td>0.000000</td>\n",
              "      <td>0.000000</td>\n",
              "      <td>0.000000</td>\n",
              "      <td>1.000000</td>\n",
              "    </tr>\n",
              "    <tr>\n",
              "      <th>75%</th>\n",
              "      <td>1.000000</td>\n",
              "      <td>1.000000</td>\n",
              "      <td>0.437500</td>\n",
              "      <td>0.061045</td>\n",
              "      <td>0.000000</td>\n",
              "      <td>0.000000</td>\n",
              "      <td>1.000000</td>\n",
              "      <td>0.100000</td>\n",
              "      <td>1.000000</td>\n",
              "      <td>0.000000</td>\n",
              "      <td>0.000000</td>\n",
              "      <td>0.000000</td>\n",
              "      <td>0.000000</td>\n",
              "      <td>0.000000</td>\n",
              "      <td>1.000000</td>\n",
              "    </tr>\n",
              "    <tr>\n",
              "      <th>max</th>\n",
              "      <td>1.000000</td>\n",
              "      <td>1.000000</td>\n",
              "      <td>1.000000</td>\n",
              "      <td>1.000000</td>\n",
              "      <td>1.000000</td>\n",
              "      <td>1.000000</td>\n",
              "      <td>1.000000</td>\n",
              "      <td>1.000000</td>\n",
              "      <td>1.000000</td>\n",
              "      <td>1.000000</td>\n",
              "      <td>1.000000</td>\n",
              "      <td>1.000000</td>\n",
              "      <td>1.000000</td>\n",
              "      <td>1.000000</td>\n",
              "      <td>1.000000</td>\n",
              "    </tr>\n",
              "  </tbody>\n",
              "</table>\n",
              "</div>"
            ],
            "text/plain": [
              "         Survived         Sex         Age  ...       Emb_1       Emb_2       Emb_3\n",
              "count  792.000000  792.000000  792.000000  ...  792.000000  792.000000  792.000000\n",
              "mean     0.386364    0.647727    0.368244  ...    0.185606    0.092172    0.720960\n",
              "std      0.487223    0.477980    0.162994  ...    0.389034    0.289451    0.448811\n",
              "min      0.000000    0.000000    0.008375  ...    0.000000    0.000000    0.000000\n",
              "25%      0.000000    0.000000    0.275000  ...    0.000000    0.000000    0.000000\n",
              "50%      0.000000    1.000000    0.350000  ...    0.000000    0.000000    1.000000\n",
              "75%      1.000000    1.000000    0.437500  ...    0.000000    0.000000    1.000000\n",
              "max      1.000000    1.000000    1.000000  ...    1.000000    1.000000    1.000000\n",
              "\n",
              "[8 rows x 15 columns]"
            ]
          },
          "metadata": {
            "tags": []
          },
          "execution_count": 47
        }
      ]
    },
    {
      "cell_type": "code",
      "metadata": {
        "id": "OCxnkOjHdXmF",
        "colab_type": "code",
        "outputId": "12dc4f1f-f51a-4584-cc02-1463da4339a7",
        "colab": {
          "base_uri": "https://localhost:8080/",
          "height": 400
        }
      },
      "source": [
        "#Plot of cross tab\n",
        "pd.crosstab(titanic_data_train.Survived, titanic_data_train.Sex).plot(kind = \"bar\",\n",
        "                                                       figsize=(8,6),\n",
        "                                                       color= [\"orange\",\"lightblue\"])\n",
        "plt.title(\"Number of Surviver as per Sex\")\n",
        "plt.xlabel(\"N = Not Survived,   Y= Survived \")\n",
        "plt.ylabel(\"Number\")\n",
        "plt.legend([\"Female\", \"Male\"]);"
      ],
      "execution_count": 48,
      "outputs": [
        {
          "output_type": "display_data",
          "data": {
            "image/png": "[encoded data removed]",
            "text/plain": [
              "<Figure size 576x432 with 1 Axes>"
            ]
          },
          "metadata": {
            "tags": [],
            "needs_background": "light"
          }
        }
      ]
    },
    {
      "cell_type": "code",
      "metadata": {
        "id": "9rStAi8OgG8H",
        "colab_type": "code",
        "outputId": "b5b5f3d1-c64a-4fb5-f02e-8be7fa546490",
        "colab": {
          "base_uri": "https://localhost:8080/",
          "height": 265
        }
      },
      "source": [
        "titanic_data_train.Age.plot.hist();"
      ],
      "execution_count": 49,
      "outputs": [
        {
          "output_type": "display_data",
          "data": {
            "image/png": "[encoded data removed]",
            "text/plain": [
              "<Figure size 432x288 with 1 Axes>"
            ]
          },
          "metadata": {
            "tags": [],
            "needs_background": "light"
          }
        }
      ]
    },
    {
      "cell_type": "markdown",
      "metadata": {
        "id": "N5fy_Hs2GdNp",
        "colab_type": "text"
      },
      "source": [
        "##Correlation Matrix"
      ]
    },
    {
      "cell_type": "code",
      "metadata": {
        "id": "uhttNajagXrK",
        "colab_type": "code",
        "outputId": "7afcfb3a-4792-4325-c913-ec299cb4813b",
        "colab": {
          "base_uri": "https://localhost:8080/",
          "height": 705
        }
      },
      "source": [
        "#Graphical Represenation of correlation matrix\n",
        "corr_matrix= titanic_data_train.corr()\n",
        "\n",
        "fig, ax = plt.subplots(figsize = (20,12))\n",
        "\n",
        "ax=sns.heatmap(corr_matrix,\n",
        "              annot=True,\n",
        "              linewidth = 0.5,\n",
        "              fmt= \".2f\",\n",
        "              cmap = \"YlGnBu\")\n",
        "bottom, top=ax.get_ylim()\n",
        "ax.set_ylim(bottom+0.5, top - 0.5);"
      ],
      "execution_count": 50,
      "outputs": [
        {
          "output_type": "display_data",
          "data": {
            "image/png": "[encoded data removed]",
            "text/plain": [
              "<Figure size 1440x864 with 2 Axes>"
            ]
          },
          "metadata": {
            "tags": [],
            "needs_background": "light"
          }
        }
      ]
    },
    {
      "cell_type": "markdown",
      "metadata": {
        "id": "kkkDss0LFFtU",
        "colab_type": "text"
      },
      "source": [
        "As per our earlier analysis we can see that our data is totaly clean and normalised columns with one hot encoding already performed. I found that our model is ready to apply the logistic regression model. In this step we have split our data set into dependent variable \"y\" and independent variable \"X\" for both test dataset and train dataset."
      ]
    },
    {
      "cell_type": "code",
      "metadata": {
        "id": "N6oG9OM6cQAX",
        "colab_type": "code",
        "colab": {}
      },
      "source": [
        "X_train = titanic_data_train.drop(\"Survived\", axis=1)\n",
        "y_train = titanic_data_train[\"Survived\"]"
      ],
      "execution_count": 0,
      "outputs": []
    },
    {
      "cell_type": "code",
      "metadata": {
        "id": "4I8EQty5emTH",
        "colab_type": "code",
        "colab": {}
      },
      "source": [
        "X_test = titanic_data_test.drop(\"Survived\", axis=1)\n",
        "y_test = titanic_data_test[\"Survived\"]"
      ],
      "execution_count": 0,
      "outputs": []
    },
    {
      "cell_type": "markdown",
      "metadata": {
        "id": "DwDyHixMULow",
        "colab_type": "text"
      },
      "source": [
        "#Applying PCA"
      ]
    },
    {
      "cell_type": "code",
      "metadata": {
        "id": "AqJF2TgBUJ_C",
        "colab_type": "code",
        "colab": {}
      },
      "source": [
        "from sklearn.decomposition import PCA\n",
        "pca = PCA(n_components = 2)\n",
        "X_train = pca.fit_transform(X_train)\n",
        "X_test = pca.transform(X_test)\n",
        "explained_variance = pca.explained_variance_ratio_"
      ],
      "execution_count": 0,
      "outputs": []
    },
    {
      "cell_type": "code",
      "metadata": {
        "id": "Jl4fxuqNYLwF",
        "colab_type": "code",
        "outputId": "87e3fa66-2102-4a7f-e373-4badcf38036e",
        "colab": {
          "base_uri": "https://localhost:8080/",
          "height": 34
        }
      },
      "source": [
        "explained_variance"
      ],
      "execution_count": 71,
      "outputs": [
        {
          "output_type": "execute_result",
          "data": {
            "text/plain": [
              "array([0.553188, 0.446812])"
            ]
          },
          "metadata": {
            "tags": []
          },
          "execution_count": 71
        }
      ]
    },
    {
      "cell_type": "code",
      "metadata": {
        "id": "Ok7CpOVMYRVQ",
        "colab_type": "code",
        "outputId": "1e0a1174-45ef-46a4-eaa0-cbe9b7002bbd",
        "colab": {
          "base_uri": "https://localhost:8080/",
          "height": 136
        }
      },
      "source": [
        "X_train"
      ],
      "execution_count": 55,
      "outputs": [
        {
          "output_type": "execute_result",
          "data": {
            "text/plain": [
              "array([[-0.62911428, -0.47977094],\n",
              "       [ 0.58115931,  1.11850823],\n",
              "       [ 0.98099792, -0.84853955],\n",
              "       ...,\n",
              "       [ 0.00179551,  1.16565611],\n",
              "       [-0.29852481, -0.49216745],\n",
              "       [-0.52073203,  0.4460687 ]])"
            ]
          },
          "metadata": {
            "tags": []
          },
          "execution_count": 55
        }
      ]
    },
    {
      "cell_type": "code",
      "metadata": {
        "id": "8ufb680jkBSY",
        "colab_type": "code",
        "colab": {
          "base_uri": "https://localhost:8080/",
          "height": 388
        },
        "outputId": "c5b93834-5211-4968-e0e4-dd3ab00d9f1d"
      },
      "source": [
        "import matplotlib.pyplot as plt\n",
        "plt.figure(figsize=(8,6))\n",
        "plt.scatter(X_train[:,0], X_train[:,1], c = titanic_data_train[\"Survived\"])\n",
        "plt.xlabel(\"First principle component\")\n",
        "plt.ylabel(\"Second principle component\");"
      ],
      "execution_count": 75,
      "outputs": [
        {
          "output_type": "display_data",
          "data": {
            "image/png": "[encoded data removed]",
            "text/plain": [
              "<Figure size 576x432 with 1 Axes>"
            ]
          },
          "metadata": {
            "tags": [],
            "needs_background": "light"
          }
        }
      ]
    },
    {
      "cell_type": "code",
      "metadata": {
        "id": "7uqOvd1FZmfT",
        "colab_type": "code",
        "outputId": "75dd6418-95f1-46af-aaab-520b92538991",
        "colab": {
          "base_uri": "https://localhost:8080/",
          "height": 1000
        }
      },
      "source": [
        "X_test"
      ],
      "execution_count": 56,
      "outputs": [
        {
          "output_type": "execute_result",
          "data": {
            "text/plain": [
              "array([[-0.52073203,  0.4460687 ],\n",
              "       [ 1.02265548, -0.8669597 ],\n",
              "       [ 0.00855966,  1.13474677],\n",
              "       [-0.6346239 , -0.47270592],\n",
              "       [-0.53521516,  0.47432637],\n",
              "       [ 0.70692682,  0.57794853],\n",
              "       [-0.06658449, -0.49713459],\n",
              "       [-0.23950299, -0.09619205],\n",
              "       [-0.05718832, -0.50218637],\n",
              "       [-0.53228678,  0.46775982],\n",
              "       [ 0.04960021,  0.42732263],\n",
              "       [ 0.17084094,  0.51431066],\n",
              "       [ 0.31378586, -0.37023764],\n",
              "       [-0.63586698, -0.47021731],\n",
              "       [-0.63814737, -0.46484417],\n",
              "       [-0.39837492,  0.77454526],\n",
              "       [ 0.98567165, -0.8590685 ],\n",
              "       [-0.53521516,  0.47432637],\n",
              "       [ 0.18457016,  0.73916915],\n",
              "       [-0.63521022, -0.47139385],\n",
              "       [-0.64155732, -0.45188342],\n",
              "       [-0.53306718,  0.46869843],\n",
              "       [ 1.01734753, -0.88947589],\n",
              "       [-0.63783311, -0.46545961],\n",
              "       [-0.39193248,  0.76009886],\n",
              "       [ 0.98275495, -0.85247947],\n",
              "       [-0.12295305,  0.83140825],\n",
              "       [-0.64527869, -0.44928306],\n",
              "       [-0.07320479, -0.73691146],\n",
              "       [ 0.18039199,  0.76714884],\n",
              "       [-0.63573554, -0.46996439],\n",
              "       [-0.39778924,  0.77323195],\n",
              "       [-0.06014355, -0.50484783],\n",
              "       [-0.06760125, -0.74565122],\n",
              "       [-0.29858712, -0.49228735],\n",
              "       [-0.63259544, -0.46148184],\n",
              "       [ 0.42667861,  0.55964641],\n",
              "       [-0.29852481, -0.49216745],\n",
              "       [ 0.41245072,  0.90042239],\n",
              "       [ 0.34513994, -0.15026366],\n",
              "       [ 0.02725512,  0.18663998],\n",
              "       [-0.23833163, -0.09881867],\n",
              "       [-0.63345579, -0.47533877],\n",
              "       [-0.63049268, -0.48183849],\n",
              "       [ 1.63001457,  0.77384828],\n",
              "       [-0.63222148, -0.47784424],\n",
              "       [-0.63636892, -0.46874288],\n",
              "       [-0.63493815, -0.45622861],\n",
              "       [ 0.00848209,  1.13459752],\n",
              "       [-0.63169325, -0.47926808],\n",
              "       [-0.52193934,  0.44374557],\n",
              "       [ 1.62361722,  0.76026766],\n",
              "       [-0.24220019, -0.09040082],\n",
              "       [-0.62987877, -0.48309747],\n",
              "       [-0.64460733, -0.4504315 ],\n",
              "       [-0.59354974, -0.48980839],\n",
              "       [-0.24237944, -0.0895256 ],\n",
              "       [-0.52341202,  0.45984925],\n",
              "       [ 0.58840415,  1.10804614],\n",
              "       [-0.06562497, -0.74731378],\n",
              "       [-0.66333145, -0.40837191],\n",
              "       [ 1.39723164, -0.50577794],\n",
              "       [ 1.23817264,  0.37006479],\n",
              "       [ 0.03816406,  0.44738648],\n",
              "       [-0.05511587, -0.51713598],\n",
              "       [ 0.19005052,  0.76865209],\n",
              "       [-0.40333503,  0.79428426],\n",
              "       [ 0.34784883, -0.14378047],\n",
              "       [-0.23833163, -0.09881867],\n",
              "       [-0.63590504, -0.45681847],\n",
              "       [-0.52098694,  0.44743368],\n",
              "       [ 0.16986578,  0.75782474],\n",
              "       [ 1.02265548, -0.8669597 ],\n",
              "       [-0.52643002,  0.45462674],\n",
              "       [ 0.03451994,  0.44583974],\n",
              "       [ 1.48998914,  0.44856291],\n",
              "       [-0.38975635,  0.77160708],\n",
              "       [-0.63625598, -0.46852555],\n",
              "       [-0.08240538, -0.73821936],\n",
              "       [-0.63520958, -0.47139261],\n",
              "       [ 0.18013107,  0.75444535],\n",
              "       [-0.39447141,  0.7674148 ],\n",
              "       [-0.64742277, -0.44364763],\n",
              "       [ 0.44548032,  0.79612102],\n",
              "       [ 1.38548706, -0.49304362],\n",
              "       [-0.63154363, -0.47898019],\n",
              "       [-0.63110984, -0.48058577],\n",
              "       [-0.63638093, -0.46876599],\n",
              "       [ 0.57154209,  1.14392761],\n",
              "       [ 0.04929191,  0.42243362],\n",
              "       [-0.63930931, -0.46219945],\n",
              "       [ 0.9835425 , -0.85340434],\n",
              "       [-0.52896745,  0.45950527],\n",
              "       [-0.63468978, -0.47283268],\n",
              "       [ 0.28720426, -0.52208548],\n",
              "       [-0.52818705,  0.45856666],\n",
              "       [ 1.23188055,  0.37562416],\n",
              "       [ 0.99244449, -0.85267098],\n",
              "       [ 0.00967681,  1.13201587],\n",
              "       [-0.30086751, -0.48691422]])"
            ]
          },
          "metadata": {
            "tags": []
          },
          "execution_count": 56
        }
      ]
    },
    {
      "cell_type": "code",
      "metadata": {
        "id": "ocISAEtalJF8",
        "colab_type": "code",
        "colab": {
          "base_uri": "https://localhost:8080/",
          "height": 388
        },
        "outputId": "47110e0a-0211-4b57-d835-3b935287507a"
      },
      "source": [
        "import matplotlib.pyplot as plt\n",
        "plt.figure(figsize=(8,6))\n",
        "plt.scatter(X_test[:,0], X_test[:,1], c = titanic_data_test[\"Survived\"])\n",
        "plt.xlabel(\"First principle component\")\n",
        "plt.ylabel(\"Second principle component\");"
      ],
      "execution_count": 74,
      "outputs": [
        {
          "output_type": "display_data",
          "data": {
            "image/png": "[encoded data removed]",
            "text/plain": [
              "<Figure size 576x432 with 1 Axes>"
            ]
          },
          "metadata": {
            "tags": [],
            "needs_background": "light"
          }
        }
      ]
    },
    {
      "cell_type": "markdown",
      "metadata": {
        "id": "NvOU7CIqGQbV",
        "colab_type": "text"
      },
      "source": [
        "#Fitting Logistic Regression"
      ]
    },
    {
      "cell_type": "markdown",
      "metadata": {
        "id": "g9Zzc6XOGzn1",
        "colab_type": "text"
      },
      "source": [
        "We have imported logistic Regression from sklearn library. We have fixed random state to a random number as 42 it can be anytime we can also put 0. There might be certain indeepth computation to decide these numbers but at this level we are not required to follow at. The use of this parameter is to stop showing results different everytime we run the code. \n",
        "\n",
        "We have fit the model to dependent and independent varibles of training dataset. "
      ]
    },
    {
      "cell_type": "code",
      "metadata": {
        "id": "JjVtLeeRjHK-",
        "colab_type": "code",
        "outputId": "bfe336a6-a5d4-4e10-a3c9-97280b1f0a47",
        "colab": {
          "base_uri": "https://localhost:8080/",
          "height": 102
        }
      },
      "source": [
        "from sklearn.linear_model import LogisticRegression\n",
        "classifier = LogisticRegression(random_state = 0)\n",
        "classifier.fit(X_train,y_train)"
      ],
      "execution_count": 57,
      "outputs": [
        {
          "output_type": "execute_result",
          "data": {
            "text/plain": [
              "LogisticRegression(C=1.0, class_weight=None, dual=False, fit_intercept=True,\n",
              "                   intercept_scaling=1, l1_ratio=None, max_iter=100,\n",
              "                   multi_class='auto', n_jobs=None, penalty='l2',\n",
              "                   random_state=42, solver='lbfgs', tol=0.0001, verbose=0,\n",
              "                   warm_start=False)"
            ]
          },
          "metadata": {
            "tags": []
          },
          "execution_count": 57
        }
      ]
    },
    {
      "cell_type": "markdown",
      "metadata": {
        "id": "bLs1AhNRGMMp",
        "colab_type": "text"
      },
      "source": [
        "## Making the Confusion Matrix"
      ]
    },
    {
      "cell_type": "code",
      "metadata": {
        "id": "PGmiwd3-rLEt",
        "colab_type": "code",
        "colab": {
          "base_uri": "https://localhost:8080/",
          "height": 68
        },
        "outputId": "34c56755-bcd9-4f17-f5b9-5fa415272247"
      },
      "source": [
        "#Predicting the test set results\n",
        "from sklearn.metrics import confusion_matrix, accuracy_score, precision_score\n",
        "y_pred = classifier.predict(X_test)\n",
        "cm = confusion_matrix(y_test, y_pred)\n",
        "print(cm)\n",
        "accuracy_score(y_test, y_pred)"
      ],
      "execution_count": 63,
      "outputs": [
        {
          "output_type": "stream",
          "text": [
            "[[54 10]\n",
            " [16 20]]\n"
          ],
          "name": "stdout"
        },
        {
          "output_type": "execute_result",
          "data": {
            "text/plain": [
              "0.74"
            ]
          },
          "metadata": {
            "tags": []
          },
          "execution_count": 63
        }
      ]
    },
    {
      "cell_type": "markdown",
      "metadata": {
        "id": "6XJW2WVKFJnr",
        "colab_type": "text"
      },
      "source": [
        "## Visualising the Training set results"
      ]
    },
    {
      "cell_type": "code",
      "metadata": {
        "id": "E5Y4jIJ-Zu9u",
        "colab_type": "code",
        "colab": {
          "base_uri": "https://localhost:8080/",
          "height": 349
        },
        "outputId": "6c75b644-9b30-4a67-e6b6-9720efec892b"
      },
      "source": [
        "from matplotlib.colors import ListedColormap\n",
        "X_set, y_set = X_train, y_train\n",
        "X1, X2 = np.meshgrid(np.arange(start = X_set[:, 0].min() - 1, stop = X_set[:, 0].max() + 1, step = 0.01),\n",
        "                     np.arange(start = X_set[:, 1].min() - 1, stop = X_set[:, 1].max() + 1, step = 0.01))\n",
        "plt.contourf(X1, X2, classifier.predict(np.array([X1.ravel(), X2.ravel()]).T).reshape(X1.shape),\n",
        "             alpha = 0.80, cmap = ListedColormap(('Orange', 'lightblue')))\n",
        "plt.xlim(X1.min(), X1.max())\n",
        "plt.ylim(X2.min(), X2.max())\n",
        "for i, j in enumerate(np.unique(y_set)):\n",
        "    plt.scatter(X_set[y_set == j, 0], X_set[y_set == j, 1],\n",
        "                c = ListedColormap(('Red', 'Green'))(i), label = j)\n",
        "plt.title('Logistic Regression (Training set)')\n",
        "plt.xlabel('PC1')\n",
        "plt.ylabel('PC2')\n",
        "plt.legend()\n",
        "plt.show()"
      ],
      "execution_count": 68,
      "outputs": [
        {
          "output_type": "stream",
          "text": [
            "'c' argument looks like a single numeric RGB or RGBA sequence, which should be avoided as value-mapping will have precedence in case its length matches with 'x' & 'y'.  Please use a 2-D array with a single row if you really want to specify the same RGB or RGBA value for all points.\n",
            "'c' argument looks like a single numeric RGB or RGBA sequence, which should be avoided as value-mapping will have precedence in case its length matches with 'x' & 'y'.  Please use a 2-D array with a single row if you really want to specify the same RGB or RGBA value for all points.\n"
          ],
          "name": "stderr"
        },
        {
          "output_type": "display_data",
          "data": {
            "image/png": "[encoded data removed]",
            "text/plain": [
              "<Figure size 432x288 with 1 Axes>"
            ]
          },
          "metadata": {
            "tags": [],
            "needs_background": "light"
          }
        }
      ]
    },
    {
      "cell_type": "markdown",
      "metadata": {
        "id": "8H17-_S4GWzJ",
        "colab_type": "text"
      },
      "source": [
        "## Visualising the Test set results"
      ]
    },
    {
      "cell_type": "code",
      "metadata": {
        "id": "YpeXm8HiE_nP",
        "colab_type": "code",
        "colab": {
          "base_uri": "https://localhost:8080/",
          "height": 349
        },
        "outputId": "f1f9fb7c-ae09-4b41-b515-98537ede880f"
      },
      "source": [
        "from matplotlib.colors import ListedColormap\n",
        "X_set, y_set = X_test, y_test\n",
        "X1, X2 = np.meshgrid(np.arange(start = X_set[:, 0].min() - 1, stop = X_set[:, 0].max() + 1, step = 0.01),\n",
        "                     np.arange(start = X_set[:, 1].min() - 1, stop = X_set[:, 1].max() + 1, step = 0.01))\n",
        "plt.contourf(X1, X2, classifier.predict(np.array([X1.ravel(), X2.ravel()]).T).reshape(X1.shape),\n",
        "             alpha = 0.75, cmap = ListedColormap(('Orange', 'lightblue')))\n",
        "plt.xlim(X1.min(), X1.max())\n",
        "plt.ylim(X2.min(), X2.max())\n",
        "for i, j in enumerate(np.unique(y_set)):\n",
        "    plt.scatter(X_set[y_set == j, 0], X_set[y_set == j, 1],\n",
        "                c = ListedColormap(('Red', 'Green'))(i), label = j)\n",
        "plt.title('Logistic Regression (Test set)')\n",
        "plt.xlabel('PC1')\n",
        "plt.ylabel('PC2')\n",
        "plt.legend()\n",
        "plt.show()"
      ],
      "execution_count": 69,
      "outputs": [
        {
          "output_type": "stream",
          "text": [
            "'c' argument looks like a single numeric RGB or RGBA sequence, which should be avoided as value-mapping will have precedence in case its length matches with 'x' & 'y'.  Please use a 2-D array with a single row if you really want to specify the same RGB or RGBA value for all points.\n",
            "'c' argument looks like a single numeric RGB or RGBA sequence, which should be avoided as value-mapping will have precedence in case its length matches with 'x' & 'y'.  Please use a 2-D array with a single row if you really want to specify the same RGB or RGBA value for all points.\n"
          ],
          "name": "stderr"
        },
        {
          "output_type": "display_data",
          "data": {
            "image/png": "[encoded data removed]",
            "text/plain": [
              "<Figure size 432x288 with 1 Axes>"
            ]
          },
          "metadata": {
            "tags": [],
            "needs_background": "light"
          }
        }
      ]
    }
  ]
}